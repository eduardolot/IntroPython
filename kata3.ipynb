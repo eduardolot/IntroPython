{
 "cells": [
  {
   "cell_type": "code",
   "execution_count": 3,
   "metadata": {},
   "outputs": [
    {
     "name": "stdout",
     "output_type": "stream",
     "text": [
      "Se acerta un asteroide\n"
     ]
    }
   ],
   "source": [
    "vel_ast=49\n",
    "if ast>25:\n",
    "    print(\"Se acerta un asteroide\")\n",
    "else:\n",
    "    print(\"No hay peligro\")"
   ]
  },
  {
   "cell_type": "code",
   "execution_count": 4,
   "metadata": {},
   "outputs": [
    {
     "name": "stdout",
     "output_type": "stream",
     "text": [
      "No se ve el rayo de luz\n"
     ]
    }
   ],
   "source": [
    "vel_ast=19\n",
    "if ast>20:\n",
    "    print(\"Se ve un rayo de luz\")\n",
    "elif ast==20:\n",
    "    print(\"Se ve un rayo de luz\")\n",
    "else:\n",
    "    print(\"No se ve el rayo de luz\")"
   ]
  },
  {
   "cell_type": "code",
   "execution_count": 7,
   "metadata": {},
   "outputs": [
    {
     "name": "stdout",
     "output_type": "stream",
     "text": [
      "Se acerca un asteroide peligroso\n"
     ]
    }
   ],
   "source": [
    "vel_ast=25\n",
    "tam_ast=50\n",
    "if vel_ast>20 and tam_ast>25:\n",
    "    print(\"Se acerca un asteroide peligroso\")\n",
    "elif vel_ast>=20 and tam_ast<25:\n",
    "    print(\"Se ve un rayo de luz\")\n",
    "else:\n",
    "    print(\"No hay peligro\")"
   ]
  }
 ],
 "metadata": {
  "interpreter": {
   "hash": "38740d3277777e2cd7c6c2cc9d8addf5118fdf3f82b1b39231fd12aeac8aee8b"
  },
  "kernelspec": {
   "display_name": "Python 3.10.2 64-bit",
   "language": "python",
   "name": "python3"
  },
  "language_info": {
   "codemirror_mode": {
    "name": "ipython",
    "version": 3
   },
   "file_extension": ".py",
   "mimetype": "text/x-python",
   "name": "python",
   "nbconvert_exporter": "python",
   "pygments_lexer": "ipython3",
   "version": "3.10.2"
  },
  "orig_nbformat": 4
 },
 "nbformat": 4,
 "nbformat_minor": 2
}
